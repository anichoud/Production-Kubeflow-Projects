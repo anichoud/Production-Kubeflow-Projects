{
 "metadata": {
  "language_info": {
   "codemirror_mode": {
    "name": "ipython",
    "version": 3
   },
   "file_extension": ".py",
   "mimetype": "text/x-python",
   "name": "python",
   "nbconvert_exporter": "python",
   "pygments_lexer": "ipython3",
   "version": "3.8.3-final"
  },
  "orig_nbformat": 2,
  "kernelspec": {
   "name": "Python 3.8.3 64-bit",
   "display_name": "Python 3.8.3 64-bit",
   "metadata": {
    "interpreter": {
     "hash": "082e9a3bcad0a290d0001e938aa60b99250c6c2ef33a923c00b70f9826caf4b7"
    }
   }
  }
 },
 "nbformat": 4,
 "nbformat_minor": 2,
 "cells": [
  {
   "cell_type": "code",
   "execution_count": 1,
   "metadata": {},
   "outputs": [],
   "source": [
    "import json\n",
    "import base64\n",
    "import requests\n",
    "samples=[]\n",
    "NUM_SAMPLES=4\n",
    "for index in range(NUM_SAMPLES):\n",
    "    with open(\"Brain_{0}.jpg\".format(index + 1), \"rb\") as image_file:\n",
    "        encoded_bytes = base64.b64encode(image_file.read())\n",
    "        # result: string (in utf-8)\n",
    "        encoded_string = encoded_bytes.decode('utf-8')\n",
    "        samples.append(encoded_string)\n",
    "        \n",
    "# prepare test data\n",
    "data = json.dumps({\"instances\": samples})\n",
    "data_read = json.loads(data)\n",
    "with open('data.json','w') as out:\n",
    "    json.dump(data_read, out)"
   ]
  },
  {
   "cell_type": "code",
   "execution_count": 43,
   "metadata": {
    "tags": []
   },
   "outputs": [
    {
     "output_type": "stream",
     "name": "stdout",
     "text": "35.196.31.58\nFetching cluster endpoint and auth data.\nkubeconfig entry generated for pipeline-test.\n"
    }
   ],
   "source": [
    "%%bash\n",
    "gcloud container clusters get-credentials <CLUSTER_NAME> --zone us-east1-d --project <PROJECT_ID>\n",
    "CLUSTER_IP=$(kubectl -n istio-system get service kfserving-ingressgateway -o jsonpath='{.status.loadBalancer.ingress[0].ip}')\n",
    "echo $CLUSTER_IP"
   ]
  },
  {
   "cell_type": "code",
   "execution_count": 181,
   "metadata": {
    "tags": []
   },
   "outputs": [
    {
     "output_type": "stream",
     "name": "stdout",
     "text": "{&#39;predictions&#39;: [&#39;No tumor inside Brain&#39;, &#39;Tumor inside Brain&#39;, &#39;Tumor inside Brain&#39;, &#39;Tumor inside Brain&#39;]}\n"
    }
   ],
   "source": [
    "MODEL_NAME=\"kfserving-braintumor\" \n",
    "#Replace the cluster IP\n",
    "cluster_ip = \"35.196.31.58\"\n",
    "headers={\"Host\": \"{0}.kubeflow.example.com\".format(MODEL_NAME),\"Content-Type\": \"application/json\"}\n",
    "response = requests.post(\"http://{0}/v1/models/{1}:predict\".format(cluster_ip, MODEL_NAME), data = data,headers = headers)\n",
    "print(response.json())"
   ]
  },
  {
   "cell_type": "code",
   "execution_count": null,
   "metadata": {},
   "outputs": [],
   "source": []
  },
  {
   "cell_type": "code",
   "execution_count": null,
   "metadata": {},
   "outputs": [],
   "source": []
  },
  {
   "cell_type": "code",
   "execution_count": null,
   "metadata": {},
   "outputs": [],
   "source": []
  },
  {
   "cell_type": "code",
   "execution_count": null,
   "metadata": {},
   "outputs": [],
   "source": []
  }
 ]
}