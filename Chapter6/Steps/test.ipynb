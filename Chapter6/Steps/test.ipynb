{
 "cells": [
  {
   "cell_type": "code",
   "execution_count": 7,
   "metadata": {
    "tags": []
   },
   "outputs": [],
   "source": [
    "import base64\n",
    "import json\n",
    "import requests\n",
    "from sklearn.datasets import load_breast_cancer\n",
    "import pandas as pd\n",
    "import numpy as np\n",
    "cancer = load_breast_cancer()\n",
    "from sklearn.model_selection import train_test_split\n",
    "\n",
    "df_cancer = pd.DataFrame(np.c_[cancer['data'], cancer['target']], columns = np.append(cancer['feature_names'], ['target']))\n",
    "X = df_cancer.drop(['target'],axis=1)\n",
    "y = df_cancer['target']\n",
    "X_train, X_test, y_train, y_test = train_test_split(X, y, test_size = 0.1, random_state = 0)\n",
    "\n",
    "\n",
    " \n"
   ]
  },
  {
   "cell_type": "code",
   "execution_count": 38,
   "metadata": {},
   "outputs": [
    {
     "output_type": "execute_result",
     "data": {
      "text/plain": "'{\"instances\": [11.7, 19.11, 74.33, 418.7, 0.08814, 0.05253, 0.01583, 0.01148, 0.1936, 0.06128, 0.1601, 1.43, 1.109, 11.28, 0.006064, 0.00911, 0.01042, 0.007638, 0.02349, 0.001661, 12.61, 26.55, 80.92, 483.1, 0.1223, 0.1087, 0.07915, 0.05741, 0.3487, 0.06958]}'"
     },
     "metadata": {},
     "execution_count": 38
    }
   ],
   "source": [
    "data = json.dumps({\"instances\": X_test.iloc[7].to_list()})\n",
    "data\n"
   ]
  },
  {
   "cell_type": "code",
   "execution_count": 39,
   "metadata": {},
   "outputs": [
    {
     "output_type": "execute_result",
     "data": {
      "text/plain": "{'predictions': 'malignant'}"
     },
     "metadata": {},
     "execution_count": 39
    }
   ],
   "source": [
    "MODEL_NAME=\"kfserving-breast-model\" \n",
    "#Replace the cluster IP\n",
    "cluster_ip = \"<$CLUSTER_IP>\"\n",
    "headers={\"Host\": \"{0}.kubeflow.example.com\".format(MODEL_NAME)}\n",
    "response = requests.post(\"http://{0}/v1/models/{1}:predict\".format(cluster_ip, MODEL_NAME), data = data,headers = headers)\n",
    "response.json()"
   ]
  },
  {
   "cell_type": "code",
   "execution_count": null,
   "metadata": {},
   "outputs": [],
   "source": []
  },
  {
   "cell_type": "code",
   "execution_count": 32,
   "metadata": {},
   "outputs": [
    {
     "output_type": "execute_result",
     "data": {
      "text/plain": "array([[0],\n       [1],\n       [1],\n       [0],\n       [1],\n       [1],\n       [1],\n       [1],\n       [1],\n       [1],\n       [1],\n       [1],\n       [1],\n       [0],\n       [1],\n       [0],\n       [1],\n       [0],\n       [0],\n       [0],\n       [0],\n       [0],\n       [1],\n       [1],\n       [0],\n       [0],\n       [1],\n       [1],\n       [1],\n       [0],\n       [1],\n       [0],\n       [1],\n       [0],\n       [1],\n       [0],\n       [1],\n       [0],\n       [1],\n       [0],\n       [0],\n       [1],\n       [0],\n       [1],\n       [0],\n       [0],\n       [1],\n       [1],\n       [1],\n       [0],\n       [0],\n       [1],\n       [0],\n       [1],\n       [1],\n       [1],\n       [1]])"
     },
     "metadata": {},
     "execution_count": 32
    }
   ],
   "source": [
    "ann_prediction"
   ]
  },
  {
   "cell_type": "code",
   "execution_count": null,
   "metadata": {},
   "outputs": [],
   "source": []
  }
 ],
 "metadata": {
  "language_info": {
   "codemirror_mode": {
    "name": "ipython",
    "version": 3
   },
   "file_extension": ".py",
   "mimetype": "text/x-python",
   "name": "python",
   "nbconvert_exporter": "python",
   "pygments_lexer": "ipython3",
   "version": "3.8.3-final"
  },
  "orig_nbformat": 2,
  "kernelspec": {
   "name": "python3",
   "display_name": "Python 3"
  }
 },
 "nbformat": 4,
 "nbformat_minor": 2
}